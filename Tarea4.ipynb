{
  "nbformat": 4,
  "nbformat_minor": 0,
  "metadata": {
    "colab": {
      "name": "Tarea4.ipynb",
      "provenance": [],
      "authorship_tag": "ABX9TyOGDHSOK2I31ChNsEBvasWs",
      "include_colab_link": true
    },
    "kernelspec": {
      "name": "python3",
      "display_name": "Python 3"
    }
  },
  "cells": [
    {
      "cell_type": "markdown",
      "metadata": {
        "id": "view-in-github",
        "colab_type": "text"
      },
      "source": [
        "<a href=\"https://colab.research.google.com/github/CarlosKarim/daa_2021_1/blob/master/Tarea4.ipynb\" target=\"_parent\"><img src=\"https://colab.research.google.com/assets/colab-badge.svg\" alt=\"Open In Colab\"/></a>"
      ]
    },
    {
      "cell_type": "code",
      "metadata": {
        "id": "Bb78oKtsRwrS",
        "outputId": "2667b37f-1844-4953-80d2-111a4f6bb77e",
        "colab": {
          "base_uri": "https://localhost:8080/",
          "height": 126
        }
      },
      "source": [
        "def ejemplo4(n):\n",
        "    count=0\n",
        "    i=n\n",
        "    print(\"nivel 1\")\n",
        "    while i>=1:\n",
        "        count += 1\n",
        "        i=i//2\n",
        "        print(\"nivel 2\")\n",
        "    basura =3+2\n",
        "    print(count)\n",
        "    return count\n",
        "\n",
        "ejemplo4(7)"
      ],
      "execution_count": 1,
      "outputs": [
        {
          "output_type": "stream",
          "text": [
            "nivel 1\n",
            "nivel 2\n",
            "nivel 2\n",
            "nivel 2\n",
            "3\n"
          ],
          "name": "stdout"
        },
        {
          "output_type": "execute_result",
          "data": {
            "text/plain": [
              "3"
            ]
          },
          "metadata": {
            "tags": []
          },
          "execution_count": 1
        }
      ]
    }
  ]
}