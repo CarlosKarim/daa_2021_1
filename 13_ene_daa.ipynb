{
  "nbformat": 4,
  "nbformat_minor": 0,
  "metadata": {
    "colab": {
      "name": "13_ene_daa.ipynb",
      "provenance": [],
      "authorship_tag": "ABX9TyOwaOusYq44ORsLhtGinHUD",
      "include_colab_link": true
    },
    "kernelspec": {
      "name": "python3",
      "display_name": "Python 3"
    }
  },
  "cells": [
    {
      "cell_type": "markdown",
      "metadata": {
        "id": "view-in-github",
        "colab_type": "text"
      },
      "source": [
        "<a href=\"https://colab.research.google.com/github/CarlosKarim/daa_2021_1/blob/master/13_ene_daa.ipynb\" target=\"_parent\"><img src=\"https://colab.research.google.com/assets/colab-badge.svg\" alt=\"Open In Colab\"/></a>"
      ]
    },
    {
      "cell_type": "code",
      "metadata": {
        "id": "b61BIfuPOX1Y"
      },
      "source": [
        "class NodoArbol:\r\n",
        "  def __init__(self, dato, hijo_izq=None, hijo_der=None):\r\n",
        "    self.dato=dato\r\n",
        "    self.left= hijo_izq\r\n",
        "    self.rigth= hijo_der"
      ],
      "execution_count": 9,
      "outputs": []
    },
    {
      "cell_type": "markdown",
      "metadata": {
        "id": "mpRY3qWGQIAv"
      },
      "source": [
        "#Arbol Binario de busqueda\r\n",
        "Los nodos a la izq son menores a la raiz y los nodos a la derecha son mayores a la raiz."
      ]
    },
    {
      "cell_type": "code",
      "metadata": {
        "id": "xcrBorpAQVWR"
      },
      "source": [
        "class BinarySearchTree:\r\n",
        "  def __init__(self):\r\n",
        "    self.__root=None\r\n",
        "\r\n",
        "  def insert(self, value):\r\n",
        "    if self.__root == None:\r\n",
        "      self.__root = NodoArbol(value, None, None)\r\n",
        "    else:\r\n",
        "      #Preguntar si value es menor que root, de ser el caso, instertar a la izq\r\n",
        "      #Pero. ser el caso que el sub arbol izq ya tiene muchos elementos.\r\n",
        "      self.__instert_nodo__(self.__root, value)\r\n",
        "\r\n",
        "  def __instert_nodo__(self, nodo, value):\r\n",
        "    if nodo.dato == value:\r\n",
        "      pass\r\n",
        "    elif value< nodo.dato:\r\n",
        "      if nodo.left == None: #True va a la izq \r\n",
        "        nodo.left = NodoArbol(value, None, None)\r\n",
        "      else:\r\n",
        "        self.__instert_nodo__(nodo.right, value)\r\n",
        "\r\n"
      ],
      "execution_count": 8,
      "outputs": []
    },
    {
      "cell_type": "code",
      "metadata": {
        "id": "7nFiCwDKbw1B"
      },
      "source": [
        "bst= BinarySearchTree()\r\n",
        "bst.insert(30)\r\n",
        "bst.insert(20)\r\n",
        "bst.insert(40)"
      ],
      "execution_count": 14,
      "outputs": []
    }
  ]
}