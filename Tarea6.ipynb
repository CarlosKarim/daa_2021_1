{
  "nbformat": 4,
  "nbformat_minor": 0,
  "metadata": {
    "colab": {
      "name": "Tarea6.ipynb",
      "provenance": [],
      "authorship_tag": "ABX9TyOgA9eW27umHN1YyDBj+Liw",
      "include_colab_link": true
    },
    "kernelspec": {
      "name": "python3",
      "display_name": "Python 3"
    }
  },
  "cells": [
    {
      "cell_type": "markdown",
      "metadata": {
        "id": "view-in-github",
        "colab_type": "text"
      },
      "source": [
        "<a href=\"https://colab.research.google.com/github/CarlosKarim/daa_2021_1/blob/master/Tarea6.ipynb\" target=\"_parent\"><img src=\"https://colab.research.google.com/assets/colab-badge.svg\" alt=\"Open In Colab\"/></a>"
      ]
    },
    {
      "cell_type": "code",
      "metadata": {
        "id": "CBp4l5xfyh8k",
        "outputId": "31fb57b3-1c6e-4cf1-c40d-91ae5627cfb1",
        "colab": {
          "base_uri": "https://localhost:8080/",
          "height": 199
        }
      },
      "source": [
        "def ejemplo1(n):\n",
        "    start_time=time()\n",
        "    c=n+1\n",
        "    d=c*n\n",
        "    e=n*n\n",
        "    total=c+e-d\n",
        "    elapsed_time=time()-start_time\n",
        "    print(\"Tiempo transcurrido: %0.10f segundos.\" %elapsed_time)\n",
        "for entrada in range(100,1100,100):\n",
        "  ejemplo1(entrada)"
      ],
      "execution_count": 4,
      "outputs": [
        {
          "output_type": "stream",
          "text": [
            "Tiempo transcurrido: 0.0000014305 segundos.\n",
            "Tiempo transcurrido: 0.0000009537 segundos.\n",
            "Tiempo transcurrido: 0.0000004768 segundos.\n",
            "Tiempo transcurrido: 0.0000004768 segundos.\n",
            "Tiempo transcurrido: 0.0000004768 segundos.\n",
            "Tiempo transcurrido: 0.0000002384 segundos.\n",
            "Tiempo transcurrido: 0.0000002384 segundos.\n",
            "Tiempo transcurrido: 0.0000007153 segundos.\n",
            "Tiempo transcurrido: 0.0000002384 segundos.\n",
            "Tiempo transcurrido: 0.0000002384 segundos.\n"
          ],
          "name": "stdout"
        }
      ]
    },
    {
      "cell_type": "code",
      "metadata": {
        "id": "GViXedyAzhuS",
        "outputId": "76ea3a0c-3328-491b-8687-74fd46462965",
        "colab": {
          "base_uri": "https://localhost:8080/",
          "height": 199
        }
      },
      "source": [
        "def ejemplo2(n):\n",
        "    start_time=time()\n",
        "    contador=0\n",
        "    for i in range(n):\n",
        "        for j in range(n):\n",
        "            contador +=1\n",
        "    elapsed_time=time()-start_time\n",
        "    print(\"Tiempo transcurrido: %0.10f segundos.\" %elapsed_time)\n",
        "#1+n^2\n",
        "for entrada in range(100,1100,100):\n",
        "  ejemplo2(entrada)"
      ],
      "execution_count": 5,
      "outputs": [
        {
          "output_type": "stream",
          "text": [
            "Tiempo transcurrido: 0.0004558563 segundos.\n",
            "Tiempo transcurrido: 0.0018250942 segundos.\n",
            "Tiempo transcurrido: 0.0045447350 segundos.\n",
            "Tiempo transcurrido: 0.0123350620 segundos.\n",
            "Tiempo transcurrido: 0.0154385567 segundos.\n",
            "Tiempo transcurrido: 0.0210366249 segundos.\n",
            "Tiempo transcurrido: 0.0292029381 segundos.\n",
            "Tiempo transcurrido: 0.0351135731 segundos.\n",
            "Tiempo transcurrido: 0.0415296555 segundos.\n",
            "Tiempo transcurrido: 0.0533800125 segundos.\n"
          ],
          "name": "stdout"
        }
      ]
    },
    {
      "cell_type": "code",
      "metadata": {
        "id": "yDlP6eQ00aYN",
        "outputId": "b5c84594-5984-4821-9a3d-98f42ac70ef6",
        "colab": {
          "base_uri": "https://localhost:8080/",
          "height": 199
        }
      },
      "source": [
        "def ejemplo3(n):\n",
        "    start_time=time()\n",
        "    x=n*2       #1\n",
        "    y=0         #1\n",
        "    for m in range(100):    #100\n",
        "        y=x-n\n",
        "    elapsed_time=time()-start_time\n",
        "    print(\"Tiempo transcurrido: %0.10f segundos.\" %elapsed_time)\n",
        "#102 \n",
        "for entrada in range(100,1100,100):\n",
        "  ejemplo3(entrada)"
      ],
      "execution_count": 6,
      "outputs": [
        {
          "output_type": "stream",
          "text": [
            "Tiempo transcurrido: 0.0000069141 segundos.\n",
            "Tiempo transcurrido: 0.0000054836 segundos.\n",
            "Tiempo transcurrido: 0.0000081062 segundos.\n",
            "Tiempo transcurrido: 0.0000081062 segundos.\n",
            "Tiempo transcurrido: 0.0000076294 segundos.\n",
            "Tiempo transcurrido: 0.0000083447 segundos.\n",
            "Tiempo transcurrido: 0.0000092983 segundos.\n",
            "Tiempo transcurrido: 0.0000088215 segundos.\n",
            "Tiempo transcurrido: 0.0000088215 segundos.\n",
            "Tiempo transcurrido: 0.0000095367 segundos.\n"
          ],
          "name": "stdout"
        }
      ]
    },
    {
      "cell_type": "code",
      "metadata": {
        "id": "TPkeRDVT0zTP",
        "outputId": "b3b3063f-2c1c-4cfe-9588-801a1f1245b4",
        "colab": {
          "base_uri": "https://localhost:8080/",
          "height": 199
        }
      },
      "source": [
        "def ejemplo4(n):\n",
        "    start_time=time()\n",
        "    x=3*3.1416+n\n",
        "    y=x+3*3-n\n",
        "    z=x+y\n",
        "    elapsed_time=time()-start_time\n",
        "    print(\"Tiempo transcurrido: %0.10f segundos.\" %elapsed_time)\n",
        "#3\n",
        "for entrada in range(100,1100,100):\n",
        "  ejemplo4(entrada)"
      ],
      "execution_count": 7,
      "outputs": [
        {
          "output_type": "stream",
          "text": [
            "Tiempo transcurrido: 0.0000011921 segundos.\n",
            "Tiempo transcurrido: 0.0000007153 segundos.\n",
            "Tiempo transcurrido: 0.0000007153 segundos.\n",
            "Tiempo transcurrido: 0.0000009537 segundos.\n",
            "Tiempo transcurrido: 0.0000007153 segundos.\n",
            "Tiempo transcurrido: 0.0000004768 segundos.\n",
            "Tiempo transcurrido: 0.0000009537 segundos.\n",
            "Tiempo transcurrido: 0.0000007153 segundos.\n",
            "Tiempo transcurrido: 0.0000009537 segundos.\n",
            "Tiempo transcurrido: 0.0000007153 segundos.\n"
          ],
          "name": "stdout"
        }
      ]
    },
    {
      "cell_type": "code",
      "metadata": {
        "id": "Q6UMKZyU1C6d",
        "outputId": "25682a58-b9e6-4ad0-e27c-ee3329232592",
        "colab": {
          "base_uri": "https://localhost:8080/",
          "height": 199
        }
      },
      "source": [
        "def ejemplo5(x):\n",
        "    start_time=time()\n",
        "    n=10\n",
        "    for j in range(0,x,1):\n",
        "        n=j+n\n",
        "    elapsed_time=time()-start_time\n",
        "    print(\"Tiempo transcurrido: %0.10f segundos.\" %elapsed_time)\n",
        "#1+x\n",
        "for entrada in range(100,1100,100):\n",
        "  ejemplo5(entrada)"
      ],
      "execution_count": 8,
      "outputs": [
        {
          "output_type": "stream",
          "text": [
            "Tiempo transcurrido: 0.0000081062 segundos.\n",
            "Tiempo transcurrido: 0.0000152588 segundos.\n",
            "Tiempo transcurrido: 0.0000228882 segundos.\n",
            "Tiempo transcurrido: 0.0000305176 segundos.\n",
            "Tiempo transcurrido: 0.0000393391 segundos.\n",
            "Tiempo transcurrido: 0.0000553131 segundos.\n",
            "Tiempo transcurrido: 0.0000534058 segundos.\n",
            "Tiempo transcurrido: 0.0000565052 segundos.\n",
            "Tiempo transcurrido: 0.0000708103 segundos.\n",
            "Tiempo transcurrido: 0.0000889301 segundos.\n"
          ],
          "name": "stdout"
        }
      ]
    },
    {
      "cell_type": "code",
      "metadata": {
        "id": "e8hUsC8tvnxf",
        "outputId": "f68362af-ecfc-4230-d600-9c74a09a246e",
        "colab": {
          "base_uri": "https://localhost:8080/",
          "height": 381
        }
      },
      "source": [
        "from time import time\n",
        "def ejemplo6(n):\n",
        "    start_time=time()\n",
        "    data=[[[1 for x in range(n)]for x in range(n)]for x in range(n)]\n",
        "    suma=0\n",
        "    for d in range(n):\n",
        "        for r in range(n):\n",
        "            for c in range(n):\n",
        "                suma+=data[d][r][c]\n",
        "    elapsed_time=time()-start_time\n",
        "    print(\"Tiempo transcurrido: %0.10f segundos.\" %elapsed_time)\n",
        "    print(suma)\n",
        "for entrada in range(100,1100,100):\n",
        "  ejemplo6(entrada)"
      ],
      "execution_count": 3,
      "outputs": [
        {
          "output_type": "stream",
          "text": [
            "Tiempo transcurrido: 0.1322312355 segundos.\n",
            "1000000\n",
            "Tiempo transcurrido: 0.9974155426 segundos.\n",
            "8000000\n",
            "Tiempo transcurrido: 3.4619574547 segundos.\n",
            "27000000\n",
            "Tiempo transcurrido: 9.0226285458 segundos.\n",
            "64000000\n",
            "Tiempo transcurrido: 17.9404892921 segundos.\n",
            "125000000\n",
            "Tiempo transcurrido: 31.2538497448 segundos.\n",
            "216000000\n",
            "Tiempo transcurrido: 50.7744338512 segundos.\n",
            "343000000\n",
            "Tiempo transcurrido: 78.3944764137 segundos.\n",
            "512000000\n",
            "Tiempo transcurrido: 107.6787812710 segundos.\n",
            "729000000\n",
            "Tiempo transcurrido: 154.7267415524 segundos.\n",
            "1000000000\n"
          ],
          "name": "stdout"
        }
      ]
    }
  ]
}