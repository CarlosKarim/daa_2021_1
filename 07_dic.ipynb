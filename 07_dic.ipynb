{
  "nbformat": 4,
  "nbformat_minor": 0,
  "metadata": {
    "colab": {
      "name": "07_dic.ipynb",
      "provenance": [],
      "authorship_tag": "ABX9TyM2ZbIj9rNsao9Oc2A108XB",
      "include_colab_link": true
    },
    "kernelspec": {
      "name": "python3",
      "display_name": "Python 3"
    }
  },
  "cells": [
    {
      "cell_type": "markdown",
      "metadata": {
        "id": "view-in-github",
        "colab_type": "text"
      },
      "source": [
        "<a href=\"https://colab.research.google.com/github/CarlosKarim/daa_2021_1/blob/master/07_dic.ipynb\" target=\"_parent\"><img src=\"https://colab.research.google.com/assets/colab-badge.svg\" alt=\"Open In Colab\"/></a>"
      ]
    },
    {
      "cell_type": "code",
      "metadata": {
        "id": "VmXLm77EHXGI"
      },
      "source": [
        "def fnRecInfinita():\n",
        "    print(\"Hola\")\n",
        "    fnRecInfinita()"
      ],
      "execution_count": null,
      "outputs": []
    },
    {
      "cell_type": "code",
      "metadata": {
        "id": "m8PrLtf1HhsY"
      },
      "source": [
        "fnRecInfinita()"
      ],
      "execution_count": null,
      "outputs": []
    },
    {
      "cell_type": "code",
      "metadata": {
        "id": "ramIzs5PHjX3"
      },
      "source": [
        ""
      ],
      "execution_count": null,
      "outputs": []
    },
    {
      "cell_type": "code",
      "metadata": {
        "colab": {
          "base_uri": "https://localhost:8080/"
        },
        "id": "4db-nbNhF3dC",
        "outputId": "47280a81-2c18-4e1d-e1de-8c0baa8b1635"
      },
      "source": [
        "def fnRec( x ):\n",
        "    if x == 0:\n",
        "        print(\"Stop\")\n",
        "    else:\n",
        "        print( x ) \n",
        "        fnRec( x-1 )\n",
        "def main():\n",
        "    print(\"Inicio del programa\")\n",
        "    fnRec( 5 )\n",
        "    print(\"Fin del programa\")\n",
        "\n",
        "main()"
      ],
      "execution_count": null,
      "outputs": [
        {
          "output_type": "stream",
          "text": [
            "Inicio del programa\n",
            "5\n",
            "4\n",
            "3\n",
            "2\n",
            "1\n",
            "Stop\n",
            "Fin del programa\n"
          ],
          "name": "stdout"
        }
      ]
    },
    {
      "cell_type": "code",
      "metadata": {
        "colab": {
          "base_uri": "https://localhost:8080/"
        },
        "id": "rDxnpwZeBgeg",
        "outputId": "a34047f4-db53-4dd6-c7ab-213db5e0bfcf"
      },
      "source": [
        "def printRev(x):\n",
        "  if x>0:\n",
        "    print(x)\n",
        "    printRev(x-1)\n",
        "\n",
        "printRev(3)"
      ],
      "execution_count": null,
      "outputs": [
        {
          "output_type": "stream",
          "text": [
            "3\n",
            "2\n",
            "1\n"
          ],
          "name": "stdout"
        }
      ]
    },
    {
      "cell_type": "code",
      "metadata": {
        "colab": {
          "base_uri": "https://localhost:8080/"
        },
        "id": "A_wiQIjJItrp",
        "outputId": "41abfc05-cd49-477c-c9e3-2b3772814f33"
      },
      "source": [
        "def fibonacci(n):\n",
        "  print(\"Llamada\",n)\n",
        "  if n==1 or n==0:\n",
        "    return n\n",
        "  else:\n",
        "    return ( fibonacci(n-1)+ fibonacci(n-2) )\n",
        "\n",
        "print(fibonacci(6))"
      ],
      "execution_count": null,
      "outputs": [
        {
          "output_type": "stream",
          "text": [
            "Llamada 6\n",
            "Llamada 5\n",
            "Llamada 4\n",
            "Llamada 3\n",
            "Llamada 2\n",
            "Llamada 1\n",
            "Llamada 0\n",
            "Llamada 1\n",
            "Llamada 2\n",
            "Llamada 1\n",
            "Llamada 0\n",
            "Llamada 3\n",
            "Llamada 2\n",
            "Llamada 1\n",
            "Llamada 0\n",
            "Llamada 1\n",
            "Llamada 4\n",
            "Llamada 3\n",
            "Llamada 2\n",
            "Llamada 1\n",
            "Llamada 0\n",
            "Llamada 1\n",
            "Llamada 2\n",
            "Llamada 1\n",
            "Llamada 0\n",
            "8\n"
          ],
          "name": "stdout"
        }
      ]
    }
  ]
}