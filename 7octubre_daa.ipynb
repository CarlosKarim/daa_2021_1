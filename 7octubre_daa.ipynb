{
  "nbformat": 4,
  "nbformat_minor": 0,
  "metadata": {
    "colab": {
      "name": "7octubre_daa.ipynb",
      "provenance": [],
      "authorship_tag": "ABX9TyM2a9Xh+lVW8KWc8rimQLl+",
      "include_colab_link": true
    },
    "kernelspec": {
      "name": "python3",
      "display_name": "Python 3"
    }
  },
  "cells": [
    {
      "cell_type": "markdown",
      "metadata": {
        "id": "view-in-github",
        "colab_type": "text"
      },
      "source": [
        "<a href=\"https://colab.research.google.com/github/CarlosKarim/daa_2021_1/blob/master/7octubre_daa.ipynb\" target=\"_parent\"><img src=\"https://colab.research.google.com/assets/colab-badge.svg\" alt=\"Open In Colab\"/></a>"
      ]
    },
    {
      "cell_type": "markdown",
      "metadata": {
        "id": "p6Pt0-PlTUoK"
      },
      "source": [
        "#Busqueda Líneal\n",
        "Dado un conjunto de ddatos no ordenados, la busqueda linela cinsiste en recorrer el conjunto de datos desde el inicio al final, moviendose de uno en uno hasta encontrar el elemento o llegar hasta al final del conjunto.\n",
        "\n",
        "datos = [ 4,18,47,2,34,14,78,12,48,21,31,19,1,3,5]\n",
        "\n",
        "#Busqueda binaría\n",
        "funciona sobre un conjunto de datos lineal ordenado.\n",
        "Consiste en dividir el conjunto en mitades y buscar en esa mitad. si el elemento buscado no esta en la mitad, preguntas si el elemento esta a la derecha o a la izquierda.\n",
        "Haces la lista igual a la mitad correspondintes y repites el proceso.\n",
        "\n",
        "L = [1, 2, 3, 4, 5, 12, 14, 18, 19, 21, 31, 34, 47, 48, 78]\n",
        "\n",
        "DER = longitud(L)-1\n",
        "IZQ = 0\n",
        "MID apuntara a la mitad del segmento de busqueda\n",
        "\n",
        "buscado: es el valor a buscar\n",
        "\n",
        "1. Hacer DER = longitud(L)-1\n",
        "2. Hacer IZQ = 0 \n",
        "3.  si IZQ > DER significa que hay un error en los datos\n",
        "4. calcular MID = int((IZQ + DER)/2)\n",
        "5. mientras L[MID] != buscado hacer \n",
        "6.    preguntar l[MID] > buscado \n",
        "          hacer DER = mid \n",
        "      de lo contrario \n",
        "          hacer IZQ = mid\n",
        "      preguntat (DER-IZQ)%2\n",
        "          MID = (IZQ + ((DER-IZQ)/2))+1\n",
        "      de lo contrario\n",
        "          MID = IZQ + ((DER - IZQ)/2)\n",
        "7.  return MD\n",
        "\n"
      ]
    },
    {
      "cell_type": "code",
      "metadata": {
        "id": "OlVjP53dSOGL",
        "outputId": "7a477a41-5d11-4725-a840-0c0a3b8a9e5a",
        "colab": {
          "base_uri": "https://localhost:8080/"
        }
      },
      "source": [
        "\"\"\"\n",
        "BUSQUEDA LINEAL\n",
        "Regresa la posicion del elemento 'buscado' si se encuentra dentro de la lista, \n",
        "regresa -1 si elmento buscado no existe dentro de la lista.\n",
        "\"\"\"\n",
        "\n",
        "def busqueda_lineal(L , buscado):\n",
        "  indice = -1\n",
        "  contador = 0\n",
        "  for idx in range(len(L)):\n",
        "    contador += 1\n",
        "    if L[idx] == buscado:\n",
        "      indice = idx\n",
        "      break\n",
        "  print(contador)\n",
        "  return indice\n",
        "\n",
        "\"\"\"\n",
        "BUSQUEDA BINARIA\n",
        "\"\"\"\n",
        "\n",
        "def busqueda_binaria(L, buscado):\n",
        "  IZQ = 0\n",
        "  DER = len(L)-1\n",
        "  MID = int((IZQ+DER)/2)\n",
        "  if len(L) % 2 == 0:\n",
        "    MID = (DER/2)+1\n",
        "  else:\n",
        "    MID = DER //2\n",
        "  while (L[MID] != buscado):\n",
        "    if L[MID] > buscado:\n",
        "      DER = MID\n",
        "    else:\n",
        "      IZQ = MID\n",
        "    if (DER - IZQ) % 2 ==0:\n",
        "      MID = (IZQ+((DER-IZQ)//2))+1\n",
        "    else:\n",
        "      MID = IZQ + ((DER-IZQ)//2)\n",
        "  return MID\n",
        "\n",
        "\n",
        "def main():\n",
        "  datos = [ 4,18,47,2,34,14,78,12,48,21,31,19,1,3,5]\n",
        "  dato = int(input(\"Que valor quieres buscar: \"))\n",
        "  resultado = busqueda_lineal(datos, dato)\n",
        "  print(\"Resultado: \",resultado)\n",
        "\n",
        "  print(\"Busqueda linal en una lista ordenada\")\n",
        "  datos.sort()\n",
        "  print(datos)\n",
        "  resultado = busqueda_lineal(datos, dato)\n",
        "  print(\"Resultado: \",resultado)\n",
        "\n",
        "  print(\"Busqueda binaria\")\n",
        "  posicion = busqueda_binaria(datos , dato)\n",
        "  print(f\"El elemento {dato} esta en la posicion {posicion} de la lista\")\n",
        "main()"
      ],
      "execution_count": 9,
      "outputs": [
        {
          "output_type": "stream",
          "text": [
            "Que valor quieres buscar: 1\n",
            "13\n",
            "Resultado:  12\n",
            "Busqueda linal en una lista ordenada\n",
            "[1, 2, 3, 4, 5, 12, 14, 18, 19, 21, 31, 34, 47, 48, 78]\n",
            "1\n",
            "Resultado:  0\n",
            "Busqueda binaria\n",
            "El elemento 1 esta en la posicion 0 de la lista\n"
          ],
          "name": "stdout"
        }
      ]
    },
    {
      "cell_type": "code",
      "metadata": {
        "id": "rdcw726CVR2c"
      },
      "source": [
        ""
      ],
      "execution_count": null,
      "outputs": []
    }
  ]
}