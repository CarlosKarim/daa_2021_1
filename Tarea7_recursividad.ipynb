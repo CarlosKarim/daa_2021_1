{
  "nbformat": 4,
  "nbformat_minor": 0,
  "metadata": {
    "colab": {
      "name": "Tarea7_recursividad.ipynb",
      "provenance": [],
      "authorship_tag": "ABX9TyNuEsKtTzU1vY/LfzNMUh1v",
      "include_colab_link": true
    },
    "kernelspec": {
      "name": "python3",
      "display_name": "Python 3"
    }
  },
  "cells": [
    {
      "cell_type": "markdown",
      "metadata": {
        "id": "view-in-github",
        "colab_type": "text"
      },
      "source": [
        "<a href=\"https://colab.research.google.com/github/CarlosKarim/daa_2021_1/blob/master/Tarea7_recursividad.ipynb\" target=\"_parent\"><img src=\"https://colab.research.google.com/assets/colab-badge.svg\" alt=\"Open In Colab\"/></a>"
      ]
    },
    {
      "cell_type": "code",
      "metadata": {
        "colab": {
          "base_uri": "https://localhost:8080/"
        },
        "id": "yFsLx0BU6L6A",
        "outputId": "88371111-1a3e-478c-f570-a1a88c6c4211"
      },
      "source": [
        "lista = [1,5,8,2,12,7,9,25]\n",
        "\n",
        "def recursividad(x):\n",
        "    suma = 0\n",
        "    if len(x) == 0:\n",
        "        suma = 0\n",
        "    else:\n",
        "        for i in lista:\n",
        "            suma = i + suma\n",
        "    print(suma)\n",
        "\n",
        "recursividad(lista)"
      ],
      "execution_count": 1,
      "outputs": [
        {
          "output_type": "stream",
          "text": [
            "69\n"
          ],
          "name": "stdout"
        }
      ]
    },
    {
      "cell_type": "code",
      "metadata": {
        "colab": {
          "base_uri": "https://localhost:8080/"
        },
        "id": "Rk6ClF776Z0R",
        "outputId": "38cf9af1-4d45-45c2-d691-d9e7d779ac2d"
      },
      "source": [
        "def contador(n):\n",
        "    if n>0:\n",
        "        print(n)\n",
        "        contador(n-1)\n",
        "\n",
        "contador(20)"
      ],
      "execution_count": 2,
      "outputs": [
        {
          "output_type": "stream",
          "text": [
            "20\n",
            "19\n",
            "18\n",
            "17\n",
            "16\n",
            "15\n",
            "14\n",
            "13\n",
            "12\n",
            "11\n",
            "10\n",
            "9\n",
            "8\n",
            "7\n",
            "6\n",
            "5\n",
            "4\n",
            "3\n",
            "2\n",
            "1\n"
          ],
          "name": "stdout"
        }
      ]
    },
    {
      "cell_type": "code",
      "metadata": {
        "colab": {
          "base_uri": "https://localhost:8080/"
        },
        "id": "wGXh2a496dpm",
        "outputId": "d5fb5785-f32a-4796-9b7a-9a76dd01c412"
      },
      "source": [
        "class Stack: \n",
        "    def __init__(self): \n",
        "        self.items = [] \n",
        "       \n",
        "    def vacio(self): \n",
        "        return self.items == [] \n",
        "       \n",
        "    def push(self, item): \n",
        "        self.items.append(item) \n",
        "       \n",
        "    def pop(self): \n",
        "        return self.items.pop() \n",
        "       \n",
        "    def peek(self): \n",
        "        return self.items[len(self.items)-1] \n",
        "       \n",
        "    def size(self): \n",
        "        return len(self.items)  \n",
        "           \n",
        "def borrar_med(st, n, curr) : \n",
        "    \n",
        "    if (st.vacio() or curr == n) : \n",
        "        return\n",
        "        \n",
        "    x = st.peek() \n",
        "    st.pop() \n",
        " \n",
        "    borrar_med(st, n, curr+1) \n",
        "        \n",
        "    if (curr != int(n/2)) : \n",
        "        st.push(x) \n",
        "   \n",
        "st = Stack() \n",
        "\n",
        "st.push('5') \n",
        "st.push('6') \n",
        "st.push('10') \n",
        "st.push('2') \n",
        "st.push('14') \n",
        "st.push('12')  \n",
        "   \n",
        "borrar_med(st, st.size(), 0) \n",
        "   \n",
        "while (st.vacio() == False) : \n",
        "    p = st.peek() \n",
        "    st.pop() \n",
        "    print (str(p) + \" \", end=\"\") \n",
        "\n"
      ],
      "execution_count": 6,
      "outputs": [
        {
          "output_type": "stream",
          "text": [
            "12 14 2 6 5 "
          ],
          "name": "stdout"
        }
      ]
    }
  ]
}