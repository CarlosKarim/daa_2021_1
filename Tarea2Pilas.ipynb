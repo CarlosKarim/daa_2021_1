{
  "nbformat": 4,
  "nbformat_minor": 0,
  "metadata": {
    "colab": {
      "name": "Tarea2Pilas.ipynb",
      "provenance": [],
      "authorship_tag": "ABX9TyObKb6YCKQ/UWNUj7FE71Jx",
      "include_colab_link": true
    },
    "kernelspec": {
      "name": "python3",
      "display_name": "Python 3"
    }
  },
  "cells": [
    {
      "cell_type": "markdown",
      "metadata": {
        "id": "view-in-github",
        "colab_type": "text"
      },
      "source": [
        "<a href=\"https://colab.research.google.com/github/CarlosKarim/daa_2021_1/blob/master/Tarea2Pilas.ipynb\" target=\"_parent\"><img src=\"https://colab.research.google.com/assets/colab-badge.svg\" alt=\"Open In Colab\"/></a>"
      ]
    },
    {
      "cell_type": "markdown",
      "metadata": {
        "id": "yO66BeB4I9y9"
      },
      "source": [
        "#ejemplo de aplicacion de pilas\n",
        "\n",
        "x = 4+5+6+3\n",
        "\n",
        "x = 4+5+6)+3\n",
        "\n",
        "x = (4+(5+6)+3)\n",
        "\n",
        "if(a==b){System.out.println(b)}\n",
        "\n",
        "if(a==b){System.out.println(b)}\n",
        "\n",
        "#reglas\n",
        "### '(' ---> push('@')\n",
        "### ')' ---> pop()\n",
        "Si el final del recorrido la pila esta vacia, entonces la cadena es correcta.\n",
        "Si en un pop desencadena en querer sacar un elemento de la pila vacia significa que la cadena no esta balanceada.\n",
        "\n",
        "#Tarea\n",
        "Hacer un programa que valide el balanceo de '{ }' , '[ ]' , '( )' en programas del lenguaje C y Java.\n",
        "\n",
        "tomando com base el codigo de la clase "
      ]
    },
    {
      "cell_type": "code",
      "metadata": {
        "id": "B_NyVG7E_WjG"
      },
      "source": [
        "from string import punctuation\n",
        "\n",
        "class Stack:\n",
        "  def __init__( self ):\n",
        "    self.__datos = []\n",
        "\n",
        "  def is_empty( self ):\n",
        "    return  len(self.__datos) == 0\n",
        "\n",
        "  def get_top( self ):\n",
        "    return self.__datos[-1]\n",
        "\n",
        "  def pop( self ):\n",
        "    return self.__datos.pop()\n",
        "\n",
        "  def push( self, valor ):\n",
        "    self.__datos.append(valor)\n",
        "\n",
        "  def get_length(self):\n",
        "    return len(self.__datos)\n",
        "\n",
        "  def to_string( self ):\n",
        "    print(\"------------\")\n",
        "    for ele in self.__datos[-1::-1]:\n",
        "      print(f\" { ele } \")\n",
        "    print(\"------------\\n\")\n",
        "    \n",
        "  def cadena_valida(self, cadena):\n",
        "    pila = []\n",
        "    abierto = ['{', '(' , '[']\n",
        "    cerrado = [\"}\" , \")\" , \"]\"]\n",
        "\n",
        "\n",
        "    for i in cadena:\n",
        "        if i in abierto:\n",
        "            pila.append(i)\n",
        "        elif i in cerrado:\n",
        "            pos = cerrado.index(i)\n",
        "            if ((len(pila)>0)) and (abierto[pos] == pila[len(pila)-1]):\n",
        "                pila.pop()\n",
        "            else:\n",
        "                return False\n",
        "    if len(pila) == 0:\n",
        "        return True\n",
        "    else: \n",
        "        return False\n",
        "\n"
      ],
      "execution_count": null,
      "outputs": []
    },
    {
      "cell_type": "code",
      "metadata": {
        "id": "ltjZ2Az5FPt2",
        "outputId": "0509ce4d-f8bc-4ab4-9f52-944267a76049",
        "colab": {
          "base_uri": "https://localhost:8080/"
        }
      },
      "source": [
        "\n",
        "\n",
        "print(\"Validacion aritmetica de cadena\")\n",
        "x = \"((4+5))\"\n",
        "print(pila1.cadena_valida(x))\n",
        "y = \"(4+(5+6)+3)\"\n",
        "print(pila1.cadena_valida(y))\n",
        "z = \"4+5+6+3\"\n",
        "print(pila1.cadena_valida(z))\n",
        "a = \"4+5+6)+3\"\n",
        "print(pila1.cadena_valida(a))\n",
        "b = \"(4+(5+60+3)\"\n",
        "print(pila1.cadena_valida(b))"
      ],
      "execution_count": 4,
      "outputs": [
        {
          "output_type": "stream",
          "text": [
            "Validacion aritmetica de cadena\n",
            "True\n",
            "True\n",
            "True\n",
            "False\n",
            "False\n"
          ],
          "name": "stdout"
        }
      ]
    },
    {
      "cell_type": "code",
      "metadata": {
        "id": "07YbKiJ8JkEh"
      },
      "source": [
        ""
      ],
      "execution_count": null,
      "outputs": []
    }
  ]
}