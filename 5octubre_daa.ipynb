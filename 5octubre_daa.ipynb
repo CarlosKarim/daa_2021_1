{
  "nbformat": 4,
  "nbformat_minor": 0,
  "metadata": {
    "colab": {
      "name": "5octubre_daa.ipynb",
      "provenance": [],
      "authorship_tag": "ABX9TyNyOyk4Zj6BePc7p/LScOzX",
      "include_colab_link": true
    },
    "kernelspec": {
      "name": "python3",
      "display_name": "Python 3"
    }
  },
  "cells": [
    {
      "cell_type": "markdown",
      "metadata": {
        "id": "view-in-github",
        "colab_type": "text"
      },
      "source": [
        "<a href=\"https://colab.research.google.com/github/CarlosKarim/daa_2021_1/blob/master/5octubre_daa.ipynb\" target=\"_parent\"><img src=\"https://colab.research.google.com/assets/colab-badge.svg\" alt=\"Open In Colab\"/></a>"
      ]
    },
    {
      "cell_type": "markdown",
      "metadata": {
        "id": "39IuUSuXApR5"
      },
      "source": [
        "# Estructura de datos Pila (Stack)\n",
        "- Last In First Out (LIFO)\n",
        "- De tipo lineal\n",
        "- Se pueden obtener e ingresar datos desde de tope\n",
        "- push para agregar\n",
        "- pop para sacar\n",
        "\n",
        "## Operaciones de las pilas\n",
        "\n",
        "1. is_empty() (regresa True o False)\n",
        "1. get_top() regresa el elemento en el tope sin sacarlo\n",
        "1. pop() saca el elemento del tope y lo regresa\n",
        "1. push() mete un elemento en el tope\n",
        "1. get_length() regresa el número de elementos en la pila\n",
        "\n"
      ]
    },
    {
      "cell_type": "code",
      "metadata": {
        "id": "B_NyVG7E_WjG"
      },
      "source": [
        "class Stack:\n",
        "  def __init__( self ):\n",
        "    self.__datos = []\n",
        "\n",
        "  def is_empty( self ):\n",
        "    return  len(self.__datos) == 0\n",
        "\n",
        "  def get_top( self ):\n",
        "    return self.__datos[-1]\n",
        "\n",
        "  def pop( self ):\n",
        "    return self.__datos.pop()\n",
        "\n",
        "  def push( self, valor ):\n",
        "    self.__datos.append(valor)\n",
        "\n",
        "  def get_length(self):\n",
        "    return len(self.__datos)\n",
        "\n",
        "  def to_string( self ):\n",
        "    print(\"------------\")\n",
        "    for ele in self.__datos[-1::-1]:\n",
        "      print(f\" { ele } \")\n",
        "    print(\"------------\\n\")\n",
        "    "
      ],
      "execution_count": 9,
      "outputs": []
    },
    {
      "cell_type": "code",
      "metadata": {
        "id": "ltjZ2Az5FPt2"
      },
      "source": [
        "pila1 = Stack()\n",
        "pila1.push(10)\n",
        "pila1.push(20)\n",
        "pila1.push(1)\n",
        "pila1.push(393)\n",
        "pila1.push(103)\n",
        "pila1.to_string()\n",
        "\n",
        "sacado = pila1.pop()\n",
        "print(f\"Elemento sacado {sacado}\")\n",
        "pila1.to_string()\n",
        "\n",
        "pila1.push(444)\n",
        "pila1.push(233)\n",
        "pila1.to_string()\n",
        "\n",
        "print(f\"El elemento en el tope es: {pila1.get_top()}\")\n",
        "pila1.to_string()\n",
        "print(f\"La pila tiene {pila1.get_length()}\")\n",
        "print(f\"La pila esta vacia?: {pila1.is_empty()}\")"
      ],
      "execution_count": null,
      "outputs": []
    },
    {
      "cell_type": "markdown",
      "metadata": {
        "id": "yO66BeB4I9y9"
      },
      "source": [
        "#ejemplo de aplicacion de pilas\n",
        "\n",
        "x = 4+5+6+3\n",
        "\n",
        "x = 4+5+6)+3\n",
        "\n",
        "x = (4+(5+6)+3)\n",
        "\n",
        "if(a==b){System.out.println(b)}\n",
        "\n",
        "if(a==b){System.out.println(b)}\n",
        "\n",
        "#reglas\n",
        "### '(' ---> push('@')\n",
        "### ')' ---> pop()\n",
        "Si el final del recorrido la pila esta vacia, entonces la cadena es correcta.\n",
        "Si en un pop desencadena en querer sacar un elemento de la pila vacia significa que la cadena no esta balanceada.\n",
        "\n",
        "#Tarea\n",
        "Hacer un programa que valide el balanceo de '{ }' , '[ ]' , '( )' en programas del lenguaje C y Java.\n",
        "\n",
        "tomando com base el codigo de la clase "
      ]
    },
    {
      "cell_type": "code",
      "metadata": {
        "id": "07YbKiJ8JkEh"
      },
      "source": [
        ""
      ],
      "execution_count": null,
      "outputs": []
    }
  ]
}