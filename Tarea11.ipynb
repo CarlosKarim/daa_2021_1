{
  "nbformat": 4,
  "nbformat_minor": 0,
  "metadata": {
    "colab": {
      "name": "Tarea11.ipynb",
      "provenance": [],
      "authorship_tag": "ABX9TyMGUH6hY7DN6/TCTAOTR8sc",
      "include_colab_link": true
    },
    "kernelspec": {
      "name": "python3",
      "display_name": "Python 3"
    }
  },
  "cells": [
    {
      "cell_type": "markdown",
      "metadata": {
        "id": "view-in-github",
        "colab_type": "text"
      },
      "source": [
        "<a href=\"https://colab.research.google.com/github/CarlosKarim/daa_2021_1/blob/master/Tarea11.ipynb\" target=\"_parent\"><img src=\"https://colab.research.google.com/assets/colab-badge.svg\" alt=\"Open In Colab\"/></a>"
      ]
    },
    {
      "cell_type": "code",
      "metadata": {
        "id": "b61BIfuPOX1Y"
      },
      "source": [
        "class NodoArbol:\r\n",
        "    def __init__( self , dato ,  hijo_izq=None , hijo_der=None):\r\n",
        "        self.dato = dato\r\n",
        "        self.left = hijo_izq\r\n",
        "        self.right = hijo_der"
      ],
      "execution_count": 48,
      "outputs": []
    },
    {
      "cell_type": "markdown",
      "metadata": {
        "id": "mpRY3qWGQIAv"
      },
      "source": [
        "#Arbol Binario de busqueda\r\n",
        "Los nodos a la izq son menores a la raiz y los nodos a la derecha son mayores a la raiz."
      ]
    },
    {
      "cell_type": "code",
      "metadata": {
        "id": "xcrBorpAQVWR"
      },
      "source": [
        "class BinarySearchTree:\r\n",
        "    def __init__( self ):\r\n",
        "        self.__root = None\r\n",
        "\r\n",
        "    def insert( self , value ):\r\n",
        "        if self.__root == None:\r\n",
        "            self.__root = NodoArbol(value,None,None)\r\n",
        "        else:\r\n",
        "            #Preguntar si value es menor que root, de ser el caso\r\n",
        "            #insertar a la izq... Pero puede ser el caso que el\r\n",
        "            #sub arbol izq ya tenga muchos elementos\r\n",
        "            self.__insert_nodo__(self.__root , value)\r\n",
        "\r\n",
        "    def __insert_nodo__( self , nodo , value ):\r\n",
        "        if nodo.dato == value:\r\n",
        "            pass\r\n",
        "        elif value < nodo.dato: #Si es True va a la izquierda\r\n",
        "            if nodo.left == None: #Si hay espacio en la izquierda, ahi le toca\r\n",
        "                nodo.left = NodoArbol(value,None,None) #Insertamos el Nodo\r\n",
        "            else: \r\n",
        "                self.__insert_nodo__( nodo.left , value )#Buscar su posicion en subarbol izquierdo\r\n",
        "        else: #Ir a la derecha\r\n",
        "            if nodo.right == None:\r\n",
        "                nodo.right =  NodoArbol(value,None,None)\r\n",
        "            else: \r\n",
        "                self.__insert_nodo__(nodo.right,value)#Buscar su posicion en subarbol derecho \r\n",
        "\r\n",
        "    def buscar( self , value ):\r\n",
        "          if self.__root == None:\r\n",
        "              return None\r\n",
        "          else:\r\n",
        "              return self.__busca_nodo( self.__root , value )\r\n",
        "\r\n",
        "    def __busca_nodo( self , nodo , value ):\r\n",
        "          if nodo == None: \r\n",
        "              return None\r\n",
        "          elif nodo.dato == value:\r\n",
        "              return nodo.dato\r\n",
        "          elif value < nodo.dato:\r\n",
        "              return self.__busca_nodo( nodo.left , value )\r\n",
        "          else:\r\n",
        "              return self.__busca_nodo( nodo.right , value )\r\n",
        "    \r\n",
        "    def transversal( self , format = \"inorden\" ):\r\n",
        "        if format == \"inorden\":\r\n",
        "            self.__recorrido_in(self.__root)\r\n",
        "        elif format == \"preorden\" :\r\n",
        "            self.__recorrido_pre(self.__root)\r\n",
        "        elif format ==\"posorden\":\r\n",
        "            self.__recorrido_pos(self.__root)\r\n",
        "        else: \r\n",
        "          print(\"Formato de recorrido no valido\")\r\n",
        "\r\n",
        "    def __recorrido_pre(self , nodo):\r\n",
        "        if nodo != None:\r\n",
        "            print (nodo.dato, end=\",\")\r\n",
        "            self.__recorrido_pre(nodo.left)\r\n",
        "            self.__recorrido_pre(nodo.right)\r\n",
        "\r\n",
        "    def __recorrido_in(self, nodo):\r\n",
        "        if nodo != None:\r\n",
        "            self.__recorrido_in(nodo.left)\r\n",
        "            print(nodo.dato, end=\",\")\r\n",
        "            self.__recorrido_in(nodo.right)\r\n",
        "\r\n",
        "    def __recorrido_pos(self,nodo):\r\n",
        "        if nodo != None:\r\n",
        "            self.__recorrido_pos(nodo.left)\r\n",
        "            self.__recorrido_pos(nodo.right)\r\n",
        "            print(nodo.dato, end=\",\")\r\n"
      ],
      "execution_count": 49,
      "outputs": []
    },
    {
      "cell_type": "code",
      "metadata": {
        "id": "7nFiCwDKbw1B",
        "colab": {
          "base_uri": "https://localhost:8080/"
        },
        "outputId": "893832ea-4120-4af4-b931-a8d32a2489e6"
      },
      "source": [
        "bst = BinarySearchTree()\r\n",
        "bst.insert(50)\r\n",
        "bst.insert(30)\r\n",
        "bst.insert(85)\r\n",
        "bst.insert(40)\r\n",
        "bst.insert(100)\r\n",
        "bst.insert(80)\r\n",
        "bst.insert(90)\r\n",
        "bst.insert(45)\r\n",
        "bst.insert(95)\r\n",
        "bst.insert(30)\r\n",
        "res = bst.buscar(30)#True or False\r\n",
        "print(\"Dato: \"+str(res))\r\n",
        "print(bst.buscar(40))\r\n",
        "print(bst.buscar(14))\r\n",
        "print(\"recorrido: \")\r\n",
        "print(\"Preorden\")\r\n",
        "bst.transversal(format=\"preorden\")\r\n",
        "print(\"\\nInorden\")\r\n",
        "bst.transversal(format=\"inorden\")\r\n",
        "print(\"\\nPosorden\")\r\n",
        "bst.transversal(format=\"posorden\")"
      ],
      "execution_count": 50,
      "outputs": [
        {
          "output_type": "stream",
          "text": [
            "Dato: 30\n",
            "40\n",
            "None\n",
            "recorrido: \n",
            "Preorden\n",
            "50,30,40,45,85,80,100,90,95,\n",
            "Inorden\n",
            "30,40,45,50,80,85,90,95,100,\n",
            "Posorden\n",
            "45,40,30,80,95,90,100,85,50,"
          ],
          "name": "stdout"
        }
      ]
    }
  ]
}