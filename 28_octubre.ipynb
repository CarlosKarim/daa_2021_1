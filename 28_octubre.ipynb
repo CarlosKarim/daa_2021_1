{
  "nbformat": 4,
  "nbformat_minor": 0,
  "metadata": {
    "colab": {
      "name": "28_octubre.ipynb",
      "provenance": [],
      "authorship_tag": "ABX9TyNQAhc5ICkUG3voGpPgIImk",
      "include_colab_link": true
    },
    "kernelspec": {
      "name": "python3",
      "display_name": "Python 3"
    }
  },
  "cells": [
    {
      "cell_type": "markdown",
      "metadata": {
        "id": "view-in-github",
        "colab_type": "text"
      },
      "source": [
        "<a href=\"https://colab.research.google.com/github/CarlosKarim/daa_2021_1/blob/master/28_octubre.ipynb\" target=\"_parent\"><img src=\"https://colab.research.google.com/assets/colab-badge.svg\" alt=\"Open In Colab\"/></a>"
      ]
    },
    {
      "cell_type": "code",
      "metadata": {
        "id": "PuwmpvZErUN0",
        "outputId": "ea4ff402-88d9-47e1-889c-268e6f0d9e31",
        "colab": {
          "base_uri": "https://localhost:8080/",
          "height": 326
        }
      },
      "source": [
        "h1=0\n",
        "h2=0\n",
        "m1=0\n",
        "m2=0 #1440 + 24 *6\n",
        "contador =0 #5+1440*2+144+24\n",
        "\n",
        "while[h1,h2,m1,m2] != [2,3,5,9]:\n",
        "  if[h1,h2] == [m2,m1]:\n",
        "\n",
        "    print(h1,h2,\":\",m1,m2)\n",
        "    m2=m2+1\n",
        "\n",
        "    if m2==10:\n",
        "      m2=0\n",
        "      m1=m1+1\n",
        "\n",
        "    if m1 ==6:\n",
        "      h2=h2+1\n",
        "      m2=0\n",
        "    contador=contador+1\n",
        "  m2=m2+1\n",
        "  if m2==10:\n",
        "    m2=0\n",
        "    m1=m1+1\n",
        "  if m1==6:\n",
        "    m1=0\n",
        "    h2=h2+1\n",
        "  if h2==10:\n",
        "    h2=0\n",
        "    h1=h1+1\n",
        "print(\"Numero de palindromos: \", contador)"
      ],
      "execution_count": 1,
      "outputs": [
        {
          "output_type": "stream",
          "text": [
            "0 0 : 0 0\n",
            "0 1 : 1 0\n",
            "0 2 : 2 0\n",
            "0 3 : 3 0\n",
            "0 4 : 4 0\n",
            "0 5 : 5 0\n",
            "1 0 : 0 1\n",
            "1 1 : 1 1\n",
            "1 2 : 2 1\n",
            "1 3 : 3 1\n",
            "1 4 : 4 1\n",
            "1 5 : 5 1\n",
            "2 0 : 0 2\n",
            "2 1 : 1 2\n",
            "2 2 : 2 2\n",
            "2 3 : 3 2\n",
            "Numero de palindromos:  16\n"
          ],
          "name": "stdout"
        }
      ]
    },
    {
      "cell_type": "code",
      "metadata": {
        "id": "Qm1NX2W54ofT",
        "outputId": "db3d3e01-ebdd-4d03-b9e1-ed08fbca777c",
        "colab": {
          "base_uri": "https://localhost:8080/",
          "height": 254
        }
      },
      "source": [
        "for x in range (0,24,1):\n",
        "  for y in range(0,60,1): #1440 * 3 +13 = 4333\n",
        "    hora=str(x)+\":\"+str(y)\n",
        "    if x<10:\n",
        "      hora=\"0\"+str(x)+\":\"+str(y)\n",
        "    if y<10:\n",
        "      hora=str(x)+\"0\"+\":\"+str(y)\n",
        "\n",
        "    p=hora[::-1]\n",
        "    if  p==hora:\n",
        "      print(f\"{hora} es palindromo\")"
      ],
      "execution_count": 2,
      "outputs": [
        {
          "output_type": "stream",
          "text": [
            "01:10 es palindromo\n",
            "02:20 es palindromo\n",
            "03:30 es palindromo\n",
            "04:40 es palindromo\n",
            "05:50 es palindromo\n",
            "11:11 es palindromo\n",
            "12:21 es palindromo\n",
            "13:31 es palindromo\n",
            "14:41 es palindromo\n",
            "15:51 es palindromo\n",
            "21:12 es palindromo\n",
            "22:22 es palindromo\n",
            "23:32 es palindromo\n"
          ],
          "name": "stdout"
        }
      ]
    }
  ]
}